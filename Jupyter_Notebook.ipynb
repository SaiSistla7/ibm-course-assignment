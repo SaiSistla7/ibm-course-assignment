{
 "cells": [
  {
   "cell_type": "markdown",
   "metadata": {},
   "source": [
    "<center>\n",
    "    <img src=\"https://s3-api.us-geo.objectstorage.softlayer.net/cf-courses-data/CognitiveClass/Logos/organization_logo/organization_logo.png\" width=\"300\" alt=\"cognitiveclass.ai logo\"  />\n",
    "</center>\n"
   ]
  },
  {
   "cell_type": "markdown",
   "metadata": {
    "jp-MarkdownHeadingCollapsed": true,
    "tags": []
   },
   "source": [
    "#### Add your code below following the instructions given in the course\n"
   ]
  },
  {
   "cell_type": "markdown",
   "metadata": {},
   "source": [
    "# My Jupyter Notebook on IBM Watson Studio"
   ]
  },
  {
   "cell_type": "markdown",
   "metadata": {},
   "source": [
    "**Sai Sri Karthik Sistla**\n",
    "<br> Data Analyst"
   ]
  },
  {
   "cell_type": "markdown",
   "metadata": {},
   "source": [
    "*I am interested in data science as I believe it brings value to me no matter the industry I am in. For example, when setting up a business, performing analysis on competitors, etc.*"
   ]
  },
  {
   "cell_type": "markdown",
   "metadata": {},
   "source": [
    "### The code in cell 5 takes the values of 3 variables and performs a simple addition."
   ]
  },
  {
   "cell_type": "code",
   "execution_count": 4,
   "metadata": {},
   "outputs": [
    {
     "data": {
      "text/plain": [
       "35"
      ]
     },
     "execution_count": 4,
     "metadata": {},
     "output_type": "execute_result"
    }
   ],
   "source": [
    "x = 12\n",
    "y = 10\n",
    "z = 13\n",
    "\n",
    "addition = x+y+z\n",
    "addition"
   ]
  },
  {
   "cell_type": "markdown",
   "metadata": {},
   "source": [
    "This is the 6th cell\n",
    "\n",
    "---\n",
    "Facts about the 6th cell:\n",
    "- Its after the 5th cell\n",
    "- Its the final cell\n",
    "\n",
    "---\n",
    "Interesting facts:\n",
    "1) It has bunch of variety components in it, unlike previous cells\n",
    "2) So its more stylish\n",
    "\n",
    "---\n",
    "The cell 5 above was executed in the language of Python.\n",
    "<center>\n",
    "    <img src=\"https://i1.wp.com/qavalidation.com/wp-content/uploads/2018/02/python-logo.png\" width=\"250\" alt=\"python logo\" />\n",
    "</center>\n",
    "\n",
    "www.ibm.com/"
   ]
  },
  {
   "cell_type": "code",
   "execution_count": null,
   "metadata": {},
   "outputs": [],
   "source": []
  }
 ],
 "metadata": {
  "kernelspec": {
   "display_name": "Python",
   "language": "python",
   "name": "conda-env-python-py"
  },
  "language_info": {
   "codemirror_mode": {
    "name": "ipython",
    "version": 3
   },
   "file_extension": ".py",
   "mimetype": "text/x-python",
   "name": "python",
   "nbconvert_exporter": "python",
   "pygments_lexer": "ipython3",
   "version": "3.7.12"
  }
 },
 "nbformat": 4,
 "nbformat_minor": 4
}
